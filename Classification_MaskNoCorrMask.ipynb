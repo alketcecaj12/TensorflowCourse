{
 "cells": [
  {
   "cell_type": "markdown",
   "id": "2c2dfbbc",
   "metadata": {},
   "source": [
    "#### Carico librerie"
   ]
  },
  {
   "cell_type": "code",
   "execution_count": 1,
   "id": "275c3095",
   "metadata": {},
   "outputs": [],
   "source": [
    "import tensorflow.keras\n",
    "from PIL import Image, ImageOps\n",
    "import numpy as np"
   ]
  },
  {
   "cell_type": "markdown",
   "id": "3dcfca63",
   "metadata": {},
   "source": [
    "##### Carico il modello "
   ]
  },
  {
   "cell_type": "code",
   "execution_count": 2,
   "id": "67e01272",
   "metadata": {},
   "outputs": [
    {
     "name": "stdout",
     "output_type": "stream",
     "text": [
      "WARNING:tensorflow:No training configuration found in the save file, so the model was *not* compiled. Compile it manually.\n"
     ]
    }
   ],
   "source": [
    "# Disable scientific notation for clarity\n",
    "np.set_printoptions(suppress=True)\n",
    "\n",
    "# Load the model\n",
    "model = tensorflow.keras.models.load_model('modello/keras_model.h5')"
   ]
  },
  {
   "cell_type": "markdown",
   "id": "2fc7ec67",
   "metadata": {},
   "source": [
    "#### Carico l'immagine di test "
   ]
  },
  {
   "cell_type": "code",
   "execution_count": 3,
   "id": "e69be3cc",
   "metadata": {},
   "outputs": [],
   "source": [
    "data = np.ndarray(shape=(1, 224, 224, 3), dtype=np.float32)\n",
    "\n",
    "# Replace this with the path to your image\n",
    "image = Image.open('TM_CorrNotCorr/TM_CorrNotCorr/TM-MaskCorrect-test/c0.jpg')"
   ]
  },
  {
   "cell_type": "markdown",
   "id": "8affdd7f",
   "metadata": {},
   "source": [
    "#### Normalizzo l'immagine"
   ]
  },
  {
   "cell_type": "code",
   "execution_count": 4,
   "id": "b8ad651b",
   "metadata": {},
   "outputs": [],
   "source": [
    "#resizing the image to be at least 224x224 and then cropping from the center\n",
    "size = (224, 224)\n",
    "image = ImageOps.fit(image, size, Image.ANTIALIAS)\n",
    "\n",
    "#turn the image into a numpy array\n",
    "image_array = np.asarray(image)\n",
    "\n",
    "# display the resized image\n",
    "image.show()\n",
    "\n",
    "# Normalize the image\n",
    "normalized_image_array = (image_array.astype(np.float32) / 127.0) - 1\n",
    "\n",
    "# Load the image into the array\n",
    "data[0] = normalized_image_array"
   ]
  },
  {
   "cell_type": "markdown",
   "id": "5c09158e",
   "metadata": {},
   "source": [
    "#### Faccio la previsione "
   ]
  },
  {
   "cell_type": "code",
   "execution_count": 5,
   "id": "417e6fb6",
   "metadata": {},
   "outputs": [
    {
     "name": "stdout",
     "output_type": "stream",
     "text": [
      "[[0.9923327  0.00766732]]\n"
     ]
    }
   ],
   "source": [
    "# run the inference\n",
    "prediction = model.predict(data)\n",
    "print(prediction)\n",
    "\n",
    "# 0 CI\n",
    "# 1 NCI"
   ]
  },
  {
   "cell_type": "code",
   "execution_count": null,
   "id": "82ba7107",
   "metadata": {},
   "outputs": [],
   "source": []
  },
  {
   "cell_type": "code",
   "execution_count": null,
   "id": "2a6b98df",
   "metadata": {},
   "outputs": [],
   "source": []
  },
  {
   "cell_type": "code",
   "execution_count": null,
   "id": "822881d4",
   "metadata": {},
   "outputs": [],
   "source": []
  }
 ],
 "metadata": {
  "kernelspec": {
   "display_name": "Python 3",
   "language": "python",
   "name": "python3"
  },
  "language_info": {
   "codemirror_mode": {
    "name": "ipython",
    "version": 3
   },
   "file_extension": ".py",
   "mimetype": "text/x-python",
   "name": "python",
   "nbconvert_exporter": "python",
   "pygments_lexer": "ipython3",
   "version": "3.9.5"
  }
 },
 "nbformat": 4,
 "nbformat_minor": 5
}
