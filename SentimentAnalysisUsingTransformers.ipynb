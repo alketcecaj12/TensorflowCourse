{
 "cells": [
  {
   "cell_type": "code",
   "execution_count": 7,
   "id": "8bdf5d54",
   "metadata": {},
   "outputs": [],
   "source": [
    "from transformers import pipeline\n",
    "import textwrap\n",
    "wrapper = textwrap.TextWrapper(width=100, break_long_words=False, break_on_hyphens=False)"
   ]
  },
  {
   "cell_type": "markdown",
   "id": "c27dfe97",
   "metadata": {},
   "source": [
    " ### Positive sentiment"
   ]
  },
  {
   "cell_type": "code",
   "execution_count": 8,
   "id": "529d97f0",
   "metadata": {},
   "outputs": [],
   "source": [
    "# test data \n",
    "sentence = 'The flights were on time both in Sydney and the connecting flight in Singapore. Crew were pleasant and helpful.'"
   ]
  },
  {
   "cell_type": "code",
   "execution_count": 9,
   "id": "4e75d761",
   "metadata": {},
   "outputs": [],
   "source": [
    "classifier = pipeline('text-classification', model='distilbert-base-uncased-finetuned-sst-2-english')"
   ]
  },
  {
   "cell_type": "code",
   "execution_count": 10,
   "id": "805d290d",
   "metadata": {},
   "outputs": [],
   "source": [
    "c = classifier(sentence)"
   ]
  },
  {
   "cell_type": "code",
   "execution_count": 13,
   "id": "0204a044",
   "metadata": {},
   "outputs": [
    {
     "name": "stdout",
     "output_type": "stream",
     "text": [
      "{'label': 'POSITIVE', 'score': 0.9997798800468445}\n"
     ]
    }
   ],
   "source": [
    "for i in c: \n",
    "    print(i)"
   ]
  },
  {
   "cell_type": "code",
   "execution_count": 11,
   "id": "e8d8cbaf",
   "metadata": {},
   "outputs": [
    {
     "name": "stdout",
     "output_type": "stream",
     "text": [
      "\n",
      "Sentence:\n",
      "The flights were on time both in Sydney and the connecting flight in Singapore. Crew were pleasant\n",
      "and helpful.\n"
     ]
    }
   ],
   "source": [
    "print('\\nSentence:')\n",
    "print(wrapper.fill(sentence))"
   ]
  },
  {
   "cell_type": "code",
   "execution_count": 20,
   "id": "16589dbd",
   "metadata": {},
   "outputs": [
    {
     "name": "stdout",
     "output_type": "stream",
     "text": [
      "\n",
      "This sentence is classified as  POSITIVE\n"
     ]
    }
   ],
   "source": [
    "print(f\"\\nThis sentence is classified as \", c[0]['label'])"
   ]
  },
  {
   "cell_type": "code",
   "execution_count": 21,
   "id": "5d94aa54",
   "metadata": {},
   "outputs": [
    {
     "name": "stdout",
     "output_type": "stream",
     "text": [
      "The confidence for the classification is :  0.9997798800468445\n"
     ]
    }
   ],
   "source": [
    "print(\"The confidence for the classification is : \", c[0]['score'])"
   ]
  },
  {
   "cell_type": "markdown",
   "id": "c7c11a84",
   "metadata": {},
   "source": [
    "### Negative sentiment "
   ]
  },
  {
   "cell_type": "code",
   "execution_count": 22,
   "id": "d1cd76be",
   "metadata": {},
   "outputs": [],
   "source": [
    "# test data \n",
    "sentence2 = 'The flights were delayed both in Sydney and the connecting flight in Singapore. Crew were unpleasant and unwilling to assist.'"
   ]
  },
  {
   "cell_type": "code",
   "execution_count": 23,
   "id": "974cb104",
   "metadata": {},
   "outputs": [],
   "source": [
    "c2 = classifier(sentence2)"
   ]
  },
  {
   "cell_type": "code",
   "execution_count": 24,
   "id": "3d702ce8",
   "metadata": {},
   "outputs": [
    {
     "name": "stdout",
     "output_type": "stream",
     "text": [
      "{'label': 'NEGATIVE', 'score': 0.9995037317276001}\n"
     ]
    }
   ],
   "source": [
    "for i in c2: \n",
    "    print(i)"
   ]
  },
  {
   "cell_type": "code",
   "execution_count": 25,
   "id": "56c2f413",
   "metadata": {},
   "outputs": [
    {
     "name": "stdout",
     "output_type": "stream",
     "text": [
      "The sentence is classified as  NEGATIVE\n"
     ]
    }
   ],
   "source": [
    "print(\"The sentence is classified as \", c2[0]['label'])"
   ]
  },
  {
   "cell_type": "code",
   "execution_count": 26,
   "id": "f65acbe7",
   "metadata": {},
   "outputs": [
    {
     "name": "stdout",
     "output_type": "stream",
     "text": [
      "Confidence about the classification :  0.9995037317276001\n"
     ]
    }
   ],
   "source": [
    "print(\"Confidence about the classification : \", c2[0][\"score\"])"
   ]
  },
  {
   "cell_type": "code",
   "execution_count": null,
   "id": "8fbc26d4",
   "metadata": {},
   "outputs": [],
   "source": []
  }
 ],
 "metadata": {
  "kernelspec": {
   "display_name": "Python 3",
   "language": "python",
   "name": "python3"
  },
  "language_info": {
   "codemirror_mode": {
    "name": "ipython",
    "version": 3
   },
   "file_extension": ".py",
   "mimetype": "text/x-python",
   "name": "python",
   "nbconvert_exporter": "python",
   "pygments_lexer": "ipython3",
   "version": "3.9.5"
  }
 },
 "nbformat": 4,
 "nbformat_minor": 5
}
