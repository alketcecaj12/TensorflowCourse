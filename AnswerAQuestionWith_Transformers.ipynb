{
 "cells": [
  {
   "cell_type": "code",
   "execution_count": 1,
   "id": "55f7b5c3",
   "metadata": {},
   "outputs": [],
   "source": [
    "from transformers import pipeline\n",
    "import textwrap\n",
    "wrapper = textwrap.TextWrapper(width=100, break_long_words=False, break_on_hyphens=False)"
   ]
  },
  {
   "cell_type": "code",
   "execution_count": 2,
   "id": "a87c4d1e",
   "metadata": {},
   "outputs": [],
   "source": [
    "context = '''\n",
    "Singapore Airlines was founded in 1947 and was originally known as Malayan Airways. \n",
    "It is the national airline of Singapore and is based at Singapore Changi Airport. \n",
    "It is particularly strong in Southeast Asian and Australian destinations but also flies to 6 different continents, \n",
    "covering 35 countries.There are more than 100 planes in the Singapore Airlines fleet, most of which are Airbus aircraft plus \n",
    "a smaller amount of Boeings..'''\n",
    "\n",
    "question = 'How many aircrafts does Singapore Airlines have?'"
   ]
  },
  {
   "cell_type": "code",
   "execution_count": 3,
   "id": "eaee6057",
   "metadata": {},
   "outputs": [
    {
     "name": "stdout",
     "output_type": "stream",
     "text": [
      "Text:\n",
      " Singapore Airlines was founded in 1947 and was originally known as Malayan Airways.  It is the\n",
      "national airline of Singapore and is based at Singapore Changi Airport.   It is particularly strong\n",
      "in Southeast Asian and Australian destinations but also flies to 6 different continents,   covering\n",
      "35 countries. There are more than 100 planes in the Singapore Airlines fleet, most of which are\n",
      "Airbus aircraft plus  a smaller amount of Boeings. .\n",
      "\n",
      "Question:\n",
      "How many aircrafts does Singapore Airlines have?\n"
     ]
    }
   ],
   "source": [
    "print('Text:')\n",
    "print(wrapper.fill(context))\n",
    "print('\\nQuestion:')\n",
    "print(question)"
   ]
  },
  {
   "cell_type": "code",
   "execution_count": 4,
   "id": "137e7692",
   "metadata": {},
   "outputs": [],
   "source": [
    "qa = pipeline('question-answering', model='distilbert-base-cased-distilled-squad')"
   ]
  },
  {
   "cell_type": "code",
   "execution_count": 5,
   "id": "c8eef386",
   "metadata": {},
   "outputs": [
    {
     "name": "stdout",
     "output_type": "stream",
     "text": [
      "\n",
      "Question:\n",
      "How many aircrafts does Singapore Airlines have?\n",
      "\n",
      "Answer:\n"
     ]
    },
    {
     "data": {
      "text/plain": [
       "'more than 100'"
      ]
     },
     "execution_count": 5,
     "metadata": {},
     "output_type": "execute_result"
    }
   ],
   "source": [
    "print('\\nQuestion:')\n",
    "print(question + '\\n')\n",
    "print('Answer:')\n",
    "a = qa(context=context, question=question)\n",
    "a['answer']"
   ]
  },
  {
   "cell_type": "markdown",
   "id": "bb8d62e8",
   "metadata": {},
   "source": [
    "### New test about the text on Rome and Italy. "
   ]
  },
  {
   "cell_type": "code",
   "execution_count": 6,
   "id": "521cb537",
   "metadata": {},
   "outputs": [],
   "source": [
    "sentence = \"\"\"Rome is an ancient city and the capital of Italy. It is also the capital of Lazio region \n",
    "Rome is home to FAO organization. The president of the Republic is Sergio Matarella and the prime minister is Mario Draghi.\"\"\""
   ]
  },
  {
   "cell_type": "code",
   "execution_count": 7,
   "id": "57ee23ed",
   "metadata": {},
   "outputs": [],
   "source": [
    "question = \"Who is the prime minister of Italy?\""
   ]
  },
  {
   "cell_type": "code",
   "execution_count": 9,
   "id": "cc29d0de",
   "metadata": {},
   "outputs": [],
   "source": [
    "a = qa(context=sentence, question=question)\n"
   ]
  },
  {
   "cell_type": "code",
   "execution_count": 10,
   "id": "5eb56e9c",
   "metadata": {},
   "outputs": [
    {
     "name": "stdout",
     "output_type": "stream",
     "text": [
      "The prime minister of Italy is :  Mario Draghi\n"
     ]
    }
   ],
   "source": [
    "print(\"The prime minister of Italy is : \", a['answer'])"
   ]
  },
  {
   "cell_type": "code",
   "execution_count": 15,
   "id": "9bfd101b",
   "metadata": {},
   "outputs": [],
   "source": [
    "q2 = \"To which country is Rome capital to?\""
   ]
  },
  {
   "cell_type": "code",
   "execution_count": 16,
   "id": "91ffa5ab",
   "metadata": {},
   "outputs": [],
   "source": [
    "a2 = qa(context=sentence, question=q2)"
   ]
  },
  {
   "cell_type": "code",
   "execution_count": 17,
   "id": "fc9e0c36",
   "metadata": {},
   "outputs": [
    {
     "data": {
      "text/plain": [
       "'Italy'"
      ]
     },
     "execution_count": 17,
     "metadata": {},
     "output_type": "execute_result"
    }
   ],
   "source": [
    "a2[\"answer\"]"
   ]
  },
  {
   "cell_type": "code",
   "execution_count": null,
   "id": "979d353f",
   "metadata": {},
   "outputs": [],
   "source": []
  },
  {
   "cell_type": "code",
   "execution_count": null,
   "id": "9b505be5",
   "metadata": {},
   "outputs": [],
   "source": []
  }
 ],
 "metadata": {
  "kernelspec": {
   "display_name": "Python 3",
   "language": "python",
   "name": "python3"
  },
  "language_info": {
   "codemirror_mode": {
    "name": "ipython",
    "version": 3
   },
   "file_extension": ".py",
   "mimetype": "text/x-python",
   "name": "python",
   "nbconvert_exporter": "python",
   "pygments_lexer": "ipython3",
   "version": "3.9.5"
  }
 },
 "nbformat": 4,
 "nbformat_minor": 5
}
