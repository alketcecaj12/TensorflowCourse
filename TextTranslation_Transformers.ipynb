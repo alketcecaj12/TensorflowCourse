{
 "cells": [
  {
   "cell_type": "code",
   "execution_count": 15,
   "id": "720526ff",
   "metadata": {},
   "outputs": [],
   "source": [
    "from transformers import pipeline\n",
    "import textwrap\n",
    "wrapper = textwrap.TextWrapper(width=100, break_long_words=False, break_on_hyphens=False)"
   ]
  },
  {
   "cell_type": "code",
   "execution_count": 16,
   "id": "adb30be8",
   "metadata": {},
   "outputs": [],
   "source": [
    "english = '''Hello, my name is Tom!'''\n",
    "translator = pipeline('translation_en_to_de', model='t5-base')\n"
   ]
  },
  {
   "cell_type": "code",
   "execution_count": 17,
   "id": "a18e95f0",
   "metadata": {},
   "outputs": [],
   "source": [
    "german = translator(english)"
   ]
  },
  {
   "cell_type": "code",
   "execution_count": 18,
   "id": "1145f265",
   "metadata": {},
   "outputs": [
    {
     "data": {
      "text/plain": [
       "[{'translation_text': 'Hallo, mein Name ist Tom!'}]"
      ]
     },
     "execution_count": 18,
     "metadata": {},
     "output_type": "execute_result"
    }
   ],
   "source": [
    "german"
   ]
  },
  {
   "cell_type": "code",
   "execution_count": 19,
   "id": "7f479c8f",
   "metadata": {},
   "outputs": [
    {
     "name": "stdout",
     "output_type": "stream",
     "text": [
      "\n",
      "English:\n",
      "Hello, my name is Tom!\n",
      "\n",
      "German:\n",
      "Hallo, mein Name ist Tom!\n"
     ]
    }
   ],
   "source": [
    "print('\\nEnglish:')\n",
    "print(english)\n",
    "print('\\nGerman:')\n",
    "print(german[0]['translation_text'])"
   ]
  },
  {
   "cell_type": "code",
   "execution_count": 23,
   "id": "c9e00fb5",
   "metadata": {},
   "outputs": [],
   "source": [
    "sentence = \"\"\"Rome is an ancient city and the capital of Italy.\"\"\""
   ]
  },
  {
   "cell_type": "code",
   "execution_count": 24,
   "id": "76408872",
   "metadata": {},
   "outputs": [],
   "source": [
    "german = translator(sentence)"
   ]
  },
  {
   "cell_type": "code",
   "execution_count": 25,
   "id": "f9e4eced",
   "metadata": {},
   "outputs": [
    {
     "name": "stdout",
     "output_type": "stream",
     "text": [
      "Rom ist eine antike Stadt und Hauptstadt Italiens.\n"
     ]
    }
   ],
   "source": [
    "print(german[0]['translation_text'])"
   ]
  },
  {
   "cell_type": "code",
   "execution_count": 27,
   "id": "9973f28b",
   "metadata": {},
   "outputs": [],
   "source": [
    "sentence2 = \"Rome is home to FAO organization. The president of the Republic is Sergio Matarella and the prime minister is Mario Draghi.\""
   ]
  },
  {
   "cell_type": "code",
   "execution_count": 28,
   "id": "4a824f33",
   "metadata": {},
   "outputs": [],
   "source": [
    "german = translator(sentence2)"
   ]
  },
  {
   "cell_type": "code",
   "execution_count": 29,
   "id": "60af354c",
   "metadata": {},
   "outputs": [
    {
     "data": {
      "text/plain": [
       "[{'translation_text': 'Rom ist Sitz der FAO-Organisation, deren Präsident Sergio Matarella und der Premierminister Mario Draghi sind.'}]"
      ]
     },
     "execution_count": 29,
     "metadata": {},
     "output_type": "execute_result"
    }
   ],
   "source": [
    "german"
   ]
  },
  {
   "cell_type": "code",
   "execution_count": null,
   "id": "0263cfb9",
   "metadata": {},
   "outputs": [],
   "source": []
  }
 ],
 "metadata": {
  "kernelspec": {
   "display_name": "Python 3",
   "language": "python",
   "name": "python3"
  },
  "language_info": {
   "codemirror_mode": {
    "name": "ipython",
    "version": 3
   },
   "file_extension": ".py",
   "mimetype": "text/x-python",
   "name": "python",
   "nbconvert_exporter": "python",
   "pygments_lexer": "ipython3",
   "version": "3.9.5"
  }
 },
 "nbformat": 4,
 "nbformat_minor": 5
}
