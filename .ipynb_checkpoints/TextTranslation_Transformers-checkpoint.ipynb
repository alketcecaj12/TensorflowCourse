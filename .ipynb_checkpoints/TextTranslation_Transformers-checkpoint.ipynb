{
 "cells": [
  {
   "cell_type": "code",
   "execution_count": 2,
   "id": "ddaf04a8",
   "metadata": {},
   "outputs": [],
   "source": [
    "from transformers import pipeline\n",
    "import textwrap\n",
    "wrapper = textwrap.TextWrapper(width=100, break_long_words=False, break_on_hyphens=False)"
   ]
  },
  {
   "cell_type": "code",
   "execution_count": 4,
   "id": "921a699d",
   "metadata": {},
   "outputs": [],
   "source": [
    "english = '''Hello, my name is Tom!'''\n",
    "translator = pipeline('translation_en_to_de', model='t5-base')\n"
   ]
  },
  {
   "cell_type": "code",
   "execution_count": 5,
   "id": "ee781b61",
   "metadata": {},
   "outputs": [
    {
     "name": "stdout",
     "output_type": "stream",
     "text": [
      "\n",
      "English:\n",
      "Hello, my name is Tom!\n",
      "\n",
      "German:\n",
      "Hallo, mein Name ist Tom!\n"
     ]
    }
   ],
   "source": [
    "german = translator(english)"
   ]
  },
  {
   "cell_type": "code",
   "execution_count": 6,
   "id": "e9acc755",
   "metadata": {},
   "outputs": [
    {
     "data": {
      "text/plain": [
       "[{'translation_text': 'Hallo, mein Name ist Tom!'}]"
      ]
     },
     "execution_count": 6,
     "metadata": {},
     "output_type": "execute_result"
    }
   ],
   "source": [
    "german"
   ]
  },
  {
   "cell_type": "code",
   "execution_count": null,
   "id": "a676a568",
   "metadata": {},
   "outputs": [],
   "source": [
    "print('\\nEnglish:')\n",
    "print(english)\n",
    "print('\\nGerman:')\n",
    "print(german[0]['translation_text'])"
   ]
  },
  {
   "cell_type": "code",
   "execution_count": null,
   "id": "a6e1ad34",
   "metadata": {},
   "outputs": [],
   "source": []
  },
  {
   "cell_type": "code",
   "execution_count": null,
   "id": "82e996e9",
   "metadata": {},
   "outputs": [],
   "source": []
  }
 ],
 "metadata": {
  "kernelspec": {
   "display_name": "Python 3",
   "language": "python",
   "name": "python3"
  },
  "language_info": {
   "codemirror_mode": {
    "name": "ipython",
    "version": 3
   },
   "file_extension": ".py",
   "mimetype": "text/x-python",
   "name": "python",
   "nbconvert_exporter": "python",
   "pygments_lexer": "ipython3",
   "version": "3.9.5"
  }
 },
 "nbformat": 4,
 "nbformat_minor": 5
}
