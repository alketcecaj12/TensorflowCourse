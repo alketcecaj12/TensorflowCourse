{
 "cells": [
  {
   "cell_type": "code",
   "execution_count": 1,
   "id": "2ddb9ce7",
   "metadata": {},
   "outputs": [],
   "source": [
    "from transformers import pipeline\n",
    "import textwrap\n",
    "wrapper = textwrap.TextWrapper(width=100, break_long_words=False, break_on_hyphens=False)"
   ]
  },
  {
   "cell_type": "code",
   "execution_count": 3,
   "id": "a71c71d8",
   "metadata": {},
   "outputs": [],
   "source": [
    "review = '''\n",
    "Extremely unusual time to fly as we needed an exemption to fly out of Australia from the government. We obtained one as working in Tokyo for the year as teachers.\n",
    "The check in procedure does take a lot longer as more paperwork and phone calls are needed to check if you are allowed to travel. The staff were excellent in explaining the procedure as they are working with very few numbers.\n",
    "The flight had 40 people only, so lots of room and yes we had 3 seats each. The service of meals and beverages was done very quickly and efficiently.\n",
    "Changi airport was like a ghost town with most shops closed and all passengers are walked/transported to a transit zone until your next flight is ready. You are then walked in single file or transported to your next flight, so very strange as at times their seemed be more workers in PPE gear than passengers.\n",
    "The steps we went through at Narita were extensive, downloading apps, fill in paperwork and giving a saliva sample to test for covid 19. \n",
    "It took about 2 hours to get through the steps and we only sat down for maybe 10 minutes at the last stop to get back your covid results. \n",
    "The people involved were fantastic and we were lucky that we were numbers two and three in the initial first line up, but still over 2 hours it took so be aware. We knew we were quick as the people picking us up told us we were first out.'''\n"
   ]
  },
  {
   "cell_type": "code",
   "execution_count": 5,
   "id": "fe6734aa",
   "metadata": {},
   "outputs": [
    {
     "name": "stdout",
     "output_type": "stream",
     "text": [
      "\n",
      "Original text:\n",
      "\n",
      " Extremely unusual time to fly as we needed an exemption to fly out of Australia from the\n",
      "government. We obtained one as working in Tokyo for the year as teachers. The check in procedure\n",
      "does take a lot longer as more paperwork and phone calls are needed to check if you are allowed to\n",
      "travel. The staff were excellent in explaining the procedure as they are working with very few\n",
      "numbers. The flight had 40 people only, so lots of room and yes we had 3 seats each. The service of\n",
      "meals and beverages was done very quickly and efficiently. Changi airport was like a ghost town with\n",
      "most shops closed and all passengers are walked/transported to a transit zone until your next flight\n",
      "is ready. You are then walked in single file or transported to your next flight, so very strange as\n",
      "at times their seemed be more workers in PPE gear than passengers. The steps we went through at\n",
      "Narita were extensive, downloading apps, fill in paperwork and giving a saliva sample to test for\n",
      "covid 19.  It took about 2 hours to get through the steps and we only sat down for maybe 10 minutes\n",
      "at the last stop to get back your covid results.  The people involved were fantastic and we were\n",
      "lucky that we were numbers two and three in the initial first line up, but still over 2 hours it\n",
      "took so be aware. We knew we were quick as the people picking us up told us we were first out.\n"
     ]
    }
   ],
   "source": [
    "print('\\nOriginal text:\\n')\n",
    "print(wrapper.fill(review))\n"
   ]
  },
  {
   "cell_type": "code",
   "execution_count": 6,
   "id": "23d98a82",
   "metadata": {},
   "outputs": [],
   "source": [
    "summarize = pipeline('summarization', model='sshleifer/distilbart-cnn-12-6')"
   ]
  },
  {
   "cell_type": "code",
   "execution_count": 10,
   "id": "919e8a1b",
   "metadata": {},
   "outputs": [
    {
     "data": {
      "text/plain": [
       "[{'summary_text': ' The flight had 40 people only, so lots of room and yes we had 3 seats each . The check in procedure does take a lot longer as more paperwork and phone calls are needed to check if you are allowed to travel . The staff were excellent in explaining the procedure as they are working with very few numbers .'}]"
      ]
     },
     "execution_count": 10,
     "metadata": {},
     "output_type": "execute_result"
    }
   ],
   "source": [
    "summarized_text = summarize(review)\n",
    "summarized_text"
   ]
  },
  {
   "cell_type": "code",
   "execution_count": 11,
   "id": "f63a2fdc",
   "metadata": {},
   "outputs": [],
   "source": [
    "summarized_text = summarized_text[0]['summary_text']"
   ]
  },
  {
   "cell_type": "code",
   "execution_count": 12,
   "id": "c5b603c9",
   "metadata": {},
   "outputs": [
    {
     "name": "stdout",
     "output_type": "stream",
     "text": [
      "\n",
      "Summarized text:\n",
      " The flight had 40 people only, so lots of room and yes we had 3 seats each . The check in procedure\n",
      "does take a lot longer as more paperwork and phone calls are needed to check if you are allowed to\n",
      "travel . The staff were excellent in explaining the procedure as they are working with very few\n",
      "numbers .\n"
     ]
    }
   ],
   "source": [
    "print('\\nSummarized text:')\n",
    "print(wrapper.fill(summarized_text))"
   ]
  },
  {
   "cell_type": "code",
   "execution_count": null,
   "id": "76af8346",
   "metadata": {},
   "outputs": [],
   "source": []
  },
  {
   "cell_type": "code",
   "execution_count": null,
   "id": "63a9f6ee",
   "metadata": {},
   "outputs": [],
   "source": []
  },
  {
   "cell_type": "code",
   "execution_count": null,
   "id": "e56ee8a3",
   "metadata": {},
   "outputs": [],
   "source": []
  }
 ],
 "metadata": {
  "kernelspec": {
   "display_name": "Python 3",
   "language": "python",
   "name": "python3"
  },
  "language_info": {
   "codemirror_mode": {
    "name": "ipython",
    "version": 3
   },
   "file_extension": ".py",
   "mimetype": "text/x-python",
   "name": "python",
   "nbconvert_exporter": "python",
   "pygments_lexer": "ipython3",
   "version": "3.9.5"
  }
 },
 "nbformat": 4,
 "nbformat_minor": 5
}
