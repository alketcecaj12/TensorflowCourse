{
 "cells": [
  {
   "cell_type": "code",
   "execution_count": 7,
   "id": "943f94ec",
   "metadata": {},
   "outputs": [],
   "source": [
    "from transformers import pipeline\n",
    "import textwrap\n",
    "wrapper = textwrap.TextWrapper(width=100, break_long_words=False, break_on_hyphens=False)"
   ]
  },
  {
   "cell_type": "code",
   "execution_count": 8,
   "id": "ffaa0172",
   "metadata": {},
   "outputs": [],
   "source": [
    "# test data \n",
    "sentence = 'The flights were on time both in Sydney and the connecting flight in Singapore. Crew were pleasant and helpful.'"
   ]
  },
  {
   "cell_type": "code",
   "execution_count": 9,
   "id": "a0e465f5",
   "metadata": {},
   "outputs": [],
   "source": [
    "classifier = pipeline('text-classification', model='distilbert-base-uncased-finetuned-sst-2-english')"
   ]
  },
  {
   "cell_type": "code",
   "execution_count": 10,
   "id": "f12d5720",
   "metadata": {},
   "outputs": [],
   "source": [
    "c = classifier(sentence)"
   ]
  },
  {
   "cell_type": "code",
   "execution_count": 13,
   "id": "c789d600",
   "metadata": {},
   "outputs": [
    {
     "name": "stdout",
     "output_type": "stream",
     "text": [
      "{'label': 'POSITIVE', 'score': 0.9997798800468445}\n"
     ]
    }
   ],
   "source": [
    "for i in c: \n",
    "    print(i)"
   ]
  },
  {
   "cell_type": "code",
   "execution_count": 11,
   "id": "976c60bc",
   "metadata": {},
   "outputs": [
    {
     "name": "stdout",
     "output_type": "stream",
     "text": [
      "\n",
      "Sentence:\n",
      "The flights were on time both in Sydney and the connecting flight in Singapore. Crew were pleasant\n",
      "and helpful.\n"
     ]
    }
   ],
   "source": [
    "print('\\nSentence:')\n",
    "print(wrapper.fill(sentence))"
   ]
  },
  {
   "cell_type": "code",
   "execution_count": 12,
   "id": "cb4e31df",
   "metadata": {},
   "outputs": [
    {
     "name": "stdout",
     "output_type": "stream",
     "text": [
      "\n",
      "This sentence is classified with a POSITIVE sentiment\n"
     ]
    }
   ],
   "source": [
    "print(f\"\\nThis sentence is classified with a {c[0]['label']} sentiment\")"
   ]
  },
  {
   "cell_type": "code",
   "execution_count": 15,
   "id": "83c80435",
   "metadata": {},
   "outputs": [
    {
     "name": "stdout",
     "output_type": "stream",
     "text": [
      "The confidence for the classification is :  0.9997798800468445\n"
     ]
    }
   ],
   "source": [
    "print(\"The confidence for the classification is : \", c[0]['score'])"
   ]
  },
  {
   "cell_type": "code",
   "execution_count": null,
   "id": "f51c0a8c",
   "metadata": {},
   "outputs": [],
   "source": []
  },
  {
   "cell_type": "code",
   "execution_count": null,
   "id": "b5497e3f",
   "metadata": {},
   "outputs": [],
   "source": []
  }
 ],
 "metadata": {
  "kernelspec": {
   "display_name": "Python 3",
   "language": "python",
   "name": "python3"
  },
  "language_info": {
   "codemirror_mode": {
    "name": "ipython",
    "version": 3
   },
   "file_extension": ".py",
   "mimetype": "text/x-python",
   "name": "python",
   "nbconvert_exporter": "python",
   "pygments_lexer": "ipython3",
   "version": "3.9.5"
  }
 },
 "nbformat": 4,
 "nbformat_minor": 5
}
