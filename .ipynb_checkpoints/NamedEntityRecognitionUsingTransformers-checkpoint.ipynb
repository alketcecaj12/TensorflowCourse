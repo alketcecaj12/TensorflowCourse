{
 "cells": [
  {
   "cell_type": "code",
   "execution_count": 1,
   "id": "cd8387a1",
   "metadata": {},
   "outputs": [],
   "source": [
    "from transformers import pipeline\n",
    "import textwrap\n",
    "wrapper = textwrap.TextWrapper(width=100, break_long_words=False, break_on_hyphens=False)"
   ]
  },
  {
   "cell_type": "code",
   "execution_count": 27,
   "id": "e8289331",
   "metadata": {},
   "outputs": [],
   "source": [
    "sentence = \"\"\"Rome is an ancient city and the capital of Italy. It is also the capital of Lazio region \n",
    "Rome is home to FAO organization. The president of the Republic is Sergio Matarella and the prime minister is Mario Draghi.\"\"\""
   ]
  },
  {
   "cell_type": "code",
   "execution_count": 28,
   "id": "9fbae783",
   "metadata": {},
   "outputs": [],
   "source": [
    "ner = pipeline('token-classification', model='dbmdz/bert-large-cased-finetuned-conll03-english', grouped_entities=True)"
   ]
  },
  {
   "cell_type": "code",
   "execution_count": 29,
   "id": "b605a486",
   "metadata": {},
   "outputs": [
    {
     "name": "stdout",
     "output_type": "stream",
     "text": [
      "\n",
      "Sentence:\n",
      "Rome is an ancient city and the capital of Italy. It is also the capital of Lazio region  Rome is\n",
      "home to FAO organization. The president of the Republic is Sergio Matarella and the prime minister\n",
      "is Mario Draghi.\n"
     ]
    }
   ],
   "source": [
    "print('\\nSentence:')\n",
    "print(wrapper.fill(sentence))"
   ]
  },
  {
   "cell_type": "code",
   "execution_count": 30,
   "id": "d133c9f0",
   "metadata": {},
   "outputs": [],
   "source": [
    "ners = ner(sentence)"
   ]
  },
  {
   "cell_type": "code",
   "execution_count": 31,
   "id": "17817c03",
   "metadata": {},
   "outputs": [
    {
     "name": "stdout",
     "output_type": "stream",
     "text": [
      "\n",
      "\n",
      "Rome -> LOC\n",
      "Italy -> LOC\n",
      "Lazio -> LOC\n",
      "Rome -> LOC\n",
      "FAO -> ORG\n",
      "Republic -> LOC\n",
      "Sergio Matarella -> PER\n",
      "Mario Draghi -> PER\n"
     ]
    }
   ],
   "source": [
    "print('\\n')\n",
    "for n in ners:\n",
    "  print(f\"{n['word']} -> {n['entity_group']}\")"
   ]
  },
  {
   "cell_type": "code",
   "execution_count": null,
   "id": "b9f1c6fd",
   "metadata": {},
   "outputs": [],
   "source": []
  },
  {
   "cell_type": "code",
   "execution_count": null,
   "id": "55b3e0b3",
   "metadata": {},
   "outputs": [],
   "source": []
  },
  {
   "cell_type": "code",
   "execution_count": null,
   "id": "9fe847a9",
   "metadata": {},
   "outputs": [],
   "source": []
  }
 ],
 "metadata": {
  "kernelspec": {
   "display_name": "Python 3",
   "language": "python",
   "name": "python3"
  },
  "language_info": {
   "codemirror_mode": {
    "name": "ipython",
    "version": 3
   },
   "file_extension": ".py",
   "mimetype": "text/x-python",
   "name": "python",
   "nbconvert_exporter": "python",
   "pygments_lexer": "ipython3",
   "version": "3.9.5"
  }
 },
 "nbformat": 4,
 "nbformat_minor": 5
}
