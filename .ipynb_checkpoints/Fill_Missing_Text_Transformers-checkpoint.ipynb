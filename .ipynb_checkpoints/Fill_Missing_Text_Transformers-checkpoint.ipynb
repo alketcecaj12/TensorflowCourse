{
 "cells": [
  {
   "cell_type": "code",
   "execution_count": 1,
   "id": "a929514a",
   "metadata": {},
   "outputs": [],
   "source": [
    "from transformers import pipeline\n",
    "import textwrap\n",
    "wrapper = textwrap.TextWrapper(width=100, break_long_words=False, break_on_hyphens=False)"
   ]
  },
  {
   "cell_type": "code",
   "execution_count": 18,
   "id": "8d9d6040",
   "metadata": {},
   "outputs": [],
   "source": [
    "sentence = 'Rome is the national <mask> of Italy'"
   ]
  },
  {
   "cell_type": "code",
   "execution_count": 19,
   "id": "c34d3922",
   "metadata": {},
   "outputs": [
    {
     "name": "stdout",
     "output_type": "stream",
     "text": [
      "Rome is the national capital of Italy\n"
     ]
    }
   ],
   "source": [
    "mask = pipeline('fill-mask', model='distilroberta-base')\n",
    "masks = mask(sentence)\n",
    "\n",
    "print(masks[0][\"sequence\"])"
   ]
  },
  {
   "cell_type": "code",
   "execution_count": 27,
   "id": "14d0b845",
   "metadata": {},
   "outputs": [],
   "source": [
    "sentence = 'The highest <mask> in Italy is Monte Bianco '"
   ]
  },
  {
   "cell_type": "code",
   "execution_count": 28,
   "id": "407e42ba",
   "metadata": {},
   "outputs": [],
   "source": [
    "mask = pipeline('fill-mask', model='distilroberta-base')\n",
    "masks = mask(sentence)"
   ]
  },
  {
   "cell_type": "code",
   "execution_count": 30,
   "id": "4ee835d6",
   "metadata": {},
   "outputs": [
    {
     "data": {
      "text/plain": [
       "'The highest mountain in Italy is Monte Bianco '"
      ]
     },
     "execution_count": 30,
     "metadata": {},
     "output_type": "execute_result"
    }
   ],
   "source": [
    "masks[0][\"sequence\"]"
   ]
  },
  {
   "cell_type": "code",
   "execution_count": null,
   "id": "d7adb6b3",
   "metadata": {},
   "outputs": [],
   "source": []
  },
  {
   "cell_type": "code",
   "execution_count": null,
   "id": "1300b6ee",
   "metadata": {},
   "outputs": [],
   "source": []
  },
  {
   "cell_type": "code",
   "execution_count": null,
   "id": "f3900bd7",
   "metadata": {},
   "outputs": [],
   "source": []
  }
 ],
 "metadata": {
  "kernelspec": {
   "display_name": "Python 3",
   "language": "python",
   "name": "python3"
  },
  "language_info": {
   "codemirror_mode": {
    "name": "ipython",
    "version": 3
   },
   "file_extension": ".py",
   "mimetype": "text/x-python",
   "name": "python",
   "nbconvert_exporter": "python",
   "pygments_lexer": "ipython3",
   "version": "3.9.5"
  }
 },
 "nbformat": 4,
 "nbformat_minor": 5
}
