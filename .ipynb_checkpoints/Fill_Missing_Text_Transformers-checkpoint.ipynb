{
 "cells": [
  {
   "cell_type": "code",
   "execution_count": 1,
   "id": "ec54dbe0",
   "metadata": {},
   "outputs": [],
   "source": [
    "from transformers import pipeline\n",
    "import textwrap\n",
    "wrapper = textwrap.TextWrapper(width=100, break_long_words=False, break_on_hyphens=False)"
   ]
  },
  {
   "cell_type": "code",
   "execution_count": 18,
   "id": "e3e1e3fd",
   "metadata": {},
   "outputs": [],
   "source": [
    "sentence = 'Rome is the national <mask> of Italy'"
   ]
  },
  {
   "cell_type": "code",
   "execution_count": 19,
   "id": "0ca78f2d",
   "metadata": {},
   "outputs": [
    {
     "name": "stdout",
     "output_type": "stream",
     "text": [
      "Rome is the national capital of Italy\n"
     ]
    }
   ],
   "source": [
    "mask = pipeline('fill-mask', model='distilroberta-base')\n",
    "masks = mask(sentence)\n",
    "\n",
    "print(masks[0][\"sequence\"])"
   ]
  },
  {
   "cell_type": "code",
   "execution_count": 27,
   "id": "c75b0ca3",
   "metadata": {},
   "outputs": [],
   "source": [
    "sentence = 'The highest <mask> in Italy is Monte Bianco '"
   ]
  },
  {
   "cell_type": "code",
   "execution_count": 28,
   "id": "49a1b655",
   "metadata": {},
   "outputs": [],
   "source": [
    "mask = pipeline('fill-mask', model='distilroberta-base')\n",
    "masks = mask(sentence)"
   ]
  },
  {
   "cell_type": "code",
   "execution_count": 30,
   "id": "0e450610",
   "metadata": {},
   "outputs": [
    {
     "data": {
      "text/plain": [
       "'The highest mountain in Italy is Monte Bianco '"
      ]
     },
     "execution_count": 30,
     "metadata": {},
     "output_type": "execute_result"
    }
   ],
   "source": [
    "masks[0][\"sequence\"]"
   ]
  },
  {
   "cell_type": "code",
   "execution_count": null,
   "id": "3a8db125",
   "metadata": {},
   "outputs": [],
   "source": []
  },
  {
   "cell_type": "code",
   "execution_count": null,
   "id": "cc2021cc",
   "metadata": {},
   "outputs": [],
   "source": []
  },
  {
   "cell_type": "code",
   "execution_count": null,
   "id": "c2ef0c7f",
   "metadata": {},
   "outputs": [],
   "source": []
  }
 ],
 "metadata": {
  "kernelspec": {
   "display_name": "Python 3",
   "language": "python",
   "name": "python3"
  },
  "language_info": {
   "codemirror_mode": {
    "name": "ipython",
    "version": 3
   },
   "file_extension": ".py",
   "mimetype": "text/x-python",
   "name": "python",
   "nbconvert_exporter": "python",
   "pygments_lexer": "ipython3",
   "version": "3.9.5"
  }
 },
 "nbformat": 4,
 "nbformat_minor": 5
}
